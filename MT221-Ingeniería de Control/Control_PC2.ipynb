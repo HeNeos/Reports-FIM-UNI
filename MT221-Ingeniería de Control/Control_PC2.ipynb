{
 "cells": [
  {
   "cell_type": "code",
   "execution_count": 1,
   "metadata": {},
   "outputs": [],
   "source": [
    "import control\n",
    "from control.matlab import *\n",
    "import numpy as np\n",
    "import scipy as sc\n",
    "import sympy as sy\n",
    "import matplotlib.pyplot as plt"
   ]
  },
  {
   "cell_type": "code",
   "execution_count": 2,
   "metadata": {},
   "outputs": [
    {
     "data": {
      "text/latex": [
       "$$\\frac{12 s + 59}{s^2 + 6 s + 8}$$"
      ],
      "text/plain": [
       "\n",
       "  12 s + 59\n",
       "-------------\n",
       "s^2 + 6 s + 8"
      ]
     },
     "execution_count": 2,
     "metadata": {},
     "output_type": "execute_result"
    }
   ],
   "source": [
    "A = [[-5, -1],[3, -1]]\n",
    "B = [[2],[5]]\n",
    "C = [[1, 2]]\n",
    "D = [[0]]\n",
    "\n",
    "ss2tf(A, B, C ,D)"
   ]
  },
  {
   "cell_type": "code",
   "execution_count": 3,
   "metadata": {},
   "outputs": [
    {
     "data": {
      "text/plain": [
       "A = [[-6. -8.]\n",
       " [ 1.  0.]]\n",
       "\n",
       "B = [[1.]\n",
       " [0.]]\n",
       "\n",
       "C = [[12. 59.]]\n",
       "\n",
       "D = [[0.]]"
      ]
     },
     "execution_count": 3,
     "metadata": {},
     "output_type": "execute_result"
    }
   ],
   "source": [
    "p1 = np.array([12, 59])\n",
    "p2 = np.array([1, 6, 8])\n",
    "tf2ss(p1, p2)"
   ]
  },
  {
   "cell_type": "markdown",
   "metadata": {},
   "source": [
    "# Traditional way (symbolic)"
   ]
  },
  {
   "cell_type": "markdown",
   "metadata": {},
   "source": [
    "$$\n",
    "\\phi(s) = (s\\mathbf{I} - \\mathbf{A})^{-1}\n",
    "$$\n",
    "$$\n",
    "H(s) = \\frac{Y(s)}{U(s)} = \\mathbf{C}\\phi(s)\\mathbf{B} + \\mathbf{D}\n",
    "$$"
   ]
  },
  {
   "cell_type": "code",
   "execution_count": 16,
   "metadata": {},
   "outputs": [
    {
     "name": "stdout",
     "output_type": "stream",
     "text": [
      "State Transition Matrix\n"
     ]
    },
    {
     "data": {
      "text/latex": [
       "$\\displaystyle \\left[\\begin{matrix}\\frac{s + 1}{s^{2} + 6 s + 8} & - \\frac{3}{3 s^{2} + 18 s + 24}\\\\- \\frac{3}{- s^{2} - 6 s - 8} & \\frac{s + 5}{s^{2} + 6 s + 8}\\end{matrix}\\right]$"
      ],
      "text/plain": [
       "Matrix([\n",
       "[(s + 1)/(s**2 + 6*s + 8),  -3/(3*s**2 + 18*s + 24)],\n",
       "[    -3/(-s**2 - 6*s - 8), (s + 5)/(s**2 + 6*s + 8)]])"
      ]
     },
     "execution_count": 16,
     "metadata": {},
     "output_type": "execute_result"
    }
   ],
   "source": [
    "_A = sy.Matrix(A)\n",
    "_B = sy.Matrix(B)\n",
    "_C = sy.Matrix(C)\n",
    "_D = sy.Matrix(D)\n",
    "\n",
    "s, t = sy.symbols('s t')\n",
    "\n",
    "phi = (s*sy.eye(2) - _A).inv()\n",
    "print(\"State Transition Matrix\")\n",
    "phi"
   ]
  },
  {
   "cell_type": "code",
   "execution_count": 17,
   "metadata": {},
   "outputs": [
    {
     "data": {
      "text/latex": [
       "$\\displaystyle \\frac{12 s + 59}{s^{2} + 6 s + 8}$"
      ],
      "text/plain": [
       "(12*s + 59)/(s**2 + 6*s + 8)"
      ]
     },
     "execution_count": 17,
     "metadata": {},
     "output_type": "execute_result"
    }
   ],
   "source": [
    "_H = sy.simplify(_C*phi*_B + _D)\n",
    "_H[0]"
   ]
  },
  {
   "cell_type": "markdown",
   "metadata": {},
   "source": [
    "# Pregunta 3.b"
   ]
  },
  {
   "cell_type": "code",
   "execution_count": 19,
   "metadata": {},
   "outputs": [
    {
     "data": {
      "text/latex": [
       "$$\\frac{1.421 \\times 10^{-14} s^2 + s + 8}{s^3 + 9 s^2 + 73 s + 65}$$"
      ],
      "text/plain": [
       "\n",
       " 1.421e-14 s^2 + s + 8\n",
       "-----------------------\n",
       "s^3 + 9 s^2 + 73 s + 65"
      ]
     },
     "execution_count": 19,
     "metadata": {},
     "output_type": "execute_result"
    }
   ],
   "source": [
    "A = [[0, 1, 0],[0, 0, 1], [-65, -73, -9]]\n",
    "B = [[0], [0], [1]]\n",
    "C = [[8, 1, 0]]\n",
    "D = [[0]]\n",
    "\n",
    "ss2tf(A, B, C ,D)"
   ]
  },
  {
   "cell_type": "code",
   "execution_count": 20,
   "metadata": {},
   "outputs": [
    {
     "data": {
      "text/plain": [
       "A = [[ -9. -73. -65.]\n",
       " [  1.   0.   0.]\n",
       " [  0.   1.   0.]]\n",
       "\n",
       "B = [[1.]\n",
       " [0.]\n",
       " [0.]]\n",
       "\n",
       "C = [[0. 1. 8.]]\n",
       "\n",
       "D = [[0.]]"
      ]
     },
     "execution_count": 20,
     "metadata": {},
     "output_type": "execute_result"
    }
   ],
   "source": [
    "p1 = np.array([1, 8])\n",
    "p2 = np.array([1, 9, 73, 65])\n",
    "tf2ss(p1, p2)"
   ]
  },
  {
   "cell_type": "code",
   "execution_count": 44,
   "metadata": {},
   "outputs": [
    {
     "name": "stdout",
     "output_type": "stream",
     "text": [
      "0.05714285714285714 0.06334996556501955 1.0909090909090908\n"
     ]
    },
    {
     "data": {
      "image/png": "[encoded data removed]",
      "text/plain": [
       "<Figure size 864x360 with 1 Axes>"
      ]
     },
     "metadata": {
      "needs_background": "light"
     },
     "output_type": "display_data"
    }
   ],
   "source": [
    "def f(t):\n",
    "    aux = np.sqrt(6)*t\n",
    "    ans = 2/35 + 3*np.exp(-7*t)/217\n",
    "    ans -= (np.exp(-2*t)*(11*np.sqrt(6)*np.cos(aux)+7*np.sin(aux)))/(155*np.sqrt(6))\n",
    "    return ans\n",
    "\n",
    "\n",
    "l = 0; r = 4; n = 100;\n",
    "_t = np.linspace(0,4,100)\n",
    "\n",
    "plt.figure(figsize=(12,5))\n",
    "plt.plot(_t, f(_t))\n",
    "plt.grid()\n",
    "\n",
    "maxi = np.max(f(_t))\n",
    "posi = np.argmax(f(_t))\n",
    "\n",
    "print(f(100), maxi, l+posi*(r-l)/(n-1))"
   ]
  },
  {
   "cell_type": "code",
   "execution_count": 89,
   "metadata": {},
   "outputs": [
    {
     "name": "stdout",
     "output_type": "stream",
     "text": [
      "0.05140827065221175\n"
     ]
    }
   ],
   "source": [
    "print(f(0.628))"
   ]
  }
 ],
 "metadata": {
  "kernelspec": {
   "display_name": "Python 3",
   "language": "python",
   "name": "python3"
  },
  "language_info": {
   "codemirror_mode": {
    "name": "ipython",
    "version": 3
   },
   "file_extension": ".py",
   "mimetype": "text/x-python",
   "name": "python",
   "nbconvert_exporter": "python",
   "pygments_lexer": "ipython3",
   "version": "3.9.1"
  }
 },
 "nbformat": 4,
 "nbformat_minor": 4
}

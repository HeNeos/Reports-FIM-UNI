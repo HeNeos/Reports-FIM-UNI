{
 "cells": [
  {
   "cell_type": "code",
   "execution_count": 1,
   "metadata": {},
   "outputs": [],
   "source": [
    "import control\n",
    "from control.matlab import *\n",
    "import numpy as np\n",
    "import scipy as sc\n",
    "import sympy as sy\n",
    "import matplotlib.pyplot as plt"
   ]
  },
  {
   "cell_type": "code",
   "execution_count": null,
   "metadata": {},
   "outputs": [],
   "source": [
    "def multiply_poly(a):\n",
    "    p1 = np.array([1])\n",
    "    for i in range(len(a)):\n",
    "        polynom = np.array(a[i])\n",
    "        p1 = sc.signal.convolve(p1, polynom)\n",
    "    return p1"
   ]
  },
  {
   "cell_type": "markdown",
   "metadata": {},
   "source": [
    "# Stability"
   ]
  },
  {
   "cell_type": "markdown",
   "metadata": {},
   "source": [
    "## Routh-Hurwitz"
   ]
  },
  {
   "cell_type": "code",
   "execution_count": 73,
   "metadata": {},
   "outputs": [],
   "source": [
    "def print_pol(poly, degree):\n",
    "    print(\"Polynom:\")\n",
    "    for i in range(degree+1):\n",
    "        if i == degree:\n",
    "            print(str(poly[i]),'\\n')\n",
    "        else:\n",
    "            print(str(poly[i])+\"s^\"+str(degree-i), end =\"+\")            \n",
    "\n",
    "def fill_matrix(m, sz, degree):\n",
    "    flag = 0\n",
    "    for i in range(2):\n",
    "        for j in range(sz):\n",
    "            if i+2*j > degree:\n",
    "                break\n",
    "            m[i][j] = p[i+2*j]\n",
    "    for i in range(2, degree+1):\n",
    "        for j in range(sz-1):\n",
    "            if m[i-1][0] == 0 and flag == 0:\n",
    "                print(\"Caso especial uwu\")\n",
    "                m[i-1][0] = 1e-8\n",
    "                flag = 1\n",
    "            m[i][j] = (m[i-2][j+1]*m[i-1][0] - m[i-2][0]*m[i-1][j+1])/m[i-1][0]\n",
    "        if flag == 1:\n",
    "            flag = 2\n",
    "            f = True\n",
    "            for j in range(0, sz-1):\n",
    "                if(m[i-1][j+1] != 0):\n",
    "                    f = False\n",
    "            if f:\n",
    "                return i-1\n",
    "    return -1\n",
    "\n",
    "def special_case(m, pos, sz, degree):\n",
    "    for i in range(sz):\n",
    "        m[pos][i] = m[pos-1][i]*(degree-pos+1-2*i)\n",
    "    for i in range(pos+1, degree+1):\n",
    "        for j in range(sz-1):\n",
    "            m[i][j] = (m[i-2][j+1]*m[i-1][0] - m[i-2][0]*m[i-1][j+1])/m[i-1][0]\n",
    "            \n",
    "    \n",
    "def routh_hurwitz(p):\n",
    "    degree = p.shape[0]-1\n",
    "    sz = (degree+2)//2\n",
    "    m = np.zeros((degree+1, sz))\n",
    "\n",
    "    print_pol(p, degree)\n",
    "    row = fill_matrix(m, sz, degree)\n",
    "    if row == -1:\n",
    "        print(\"Nice :)\")\n",
    "    else:\n",
    "        print(\"Segundo caso especial uwu\")\n",
    "        special_case(m, row, sz, degree)\n",
    "\n",
    "    print(m)"
   ]
  },
  {
   "cell_type": "code",
   "execution_count": 74,
   "metadata": {},
   "outputs": [
    {
     "name": "stdout",
     "output_type": "stream",
     "text": [
      "Polynom:\n",
      "1s^8+1s^7+12s^6+22s^5+39s^4+59s^3+48s^2+38s^1+20 \n",
      "\n",
      "Caso especial uwu\n",
      "Segundo caso especial uwu\n",
      "[[  1.          12.          39.          48.          20.        ]\n",
      " [  1.          22.          59.          38.           0.        ]\n",
      " [-10.         -20.          10.          20.           0.        ]\n",
      " [ 20.          60.          40.           0.           0.        ]\n",
      " [ 10.          30.          20.           0.           0.        ]\n",
      " [ 40.          60.           0.          -0.          -0.        ]\n",
      " [ 15.          20.           0.           0.           0.        ]\n",
      " [  6.66666667   0.          -0.          -0.           0.        ]\n",
      " [ 20.           0.           0.           0.           0.        ]]\n"
     ]
    }
   ],
   "source": [
    "#p = np.array([1,7,6,42,8,56])\n",
    "p = np.array([1, 1, 12, 22, 39, 59, 48, 38, 20])\n",
    "\n",
    "routh_hurwitz(p)"
   ]
  },
  {
   "cell_type": "markdown",
   "metadata": {},
   "source": [
    "# Steady-State errors"
   ]
  },
  {
   "cell_type": "markdown",
   "metadata": {},
   "source": [
    "<img src=\"uwu.png\" width=350 height=350 />\n",
    "\n",
    "$$\n",
    "E(s) = \\frac{R(s)}{1+G(s)}\n",
    "$$\n",
    "$$\n",
    "e(\\infty) = \\lim_{s\\to 0} sE(s) = \\lim_{s\\to 0} \\frac{sR(s)}{1+G(s)}\n",
    "$$"
   ]
  },
  {
   "cell_type": "code",
   "execution_count": 100,
   "metadata": {},
   "outputs": [
    {
     "name": "stdout",
     "output_type": "stream",
     "text": [
      "e(oo) = 0\n",
      "Kp = oo\n",
      "Kv = 100\n",
      "Ka = 0\n",
      "e(oo) = 1/20\n",
      "Kp = oo\n",
      "Kv = 100\n",
      "Ka = 0\n"
     ]
    }
   ],
   "source": [
    "s, t = sy.symbols('s t')\n",
    "\n",
    "def constants(G, R):\n",
    "    e = sy.limit(s*R/(1+G), s, 0)\n",
    "    kp = sy.limit(G, s, 0)\n",
    "    kv = sy.limit(s*G, s, 0)\n",
    "    ka = sy.limit(s*s*G, s, 0)\n",
    "    print(\"e(oo) =\", e)\n",
    "    print(\"Kp =\", kp)\n",
    "    print(\"Kv =\", kv)\n",
    "    print(\"Ka =\", ka)\n",
    "    \n",
    "    \n",
    "G = 100*(s+2)*(s+6)/(s*(s+3)*(s+4))\n",
    "R = sy.integrals.laplace_transform(5, t, s)[0]\n",
    "\n",
    "constants(G, R)\n",
    "\n",
    "R = sy.integrals.laplace_transform(5*t, t, s)[0]\n",
    "\n",
    "constants(G, R)"
   ]
  },
  {
   "cell_type": "code",
   "execution_count": null,
   "metadata": {},
   "outputs": [],
   "source": []
  }
 ],
 "metadata": {
  "kernelspec": {
   "display_name": "Python 3",
   "language": "python",
   "name": "python3"
  },
  "language_info": {
   "codemirror_mode": {
    "name": "ipython",
    "version": 3
   },
   "file_extension": ".py",
   "mimetype": "text/x-python",
   "name": "python",
   "nbconvert_exporter": "python",
   "pygments_lexer": "ipython3",
   "version": "3.9.1"
  }
 },
 "nbformat": 4,
 "nbformat_minor": 4
}

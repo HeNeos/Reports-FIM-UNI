{
 "cells": [
  {
   "cell_type": "code",
   "execution_count": 5,
   "metadata": {
    "ExecuteTime": {
     "end_time": "2020-12-11T00:36:42.632499Z",
     "start_time": "2020-12-11T00:36:41.773396Z"
    }
   },
   "outputs": [],
   "source": [
    "import control\n",
    "from control.matlab import *\n",
    "import numpy as np\n",
    "import scipy as sc"
   ]
  },
  {
   "cell_type": "markdown",
   "metadata": {},
   "source": [
    "# Pregunta 3.1\n",
    "$$\n",
    "P_{2} = s^{6} + 8s^{5} + 23s^{4} + 36s^{3} + 38s^{2}+28s+16\n",
    "$$"
   ]
  },
  {
   "cell_type": "code",
   "execution_count": 2,
   "metadata": {
    "ExecuteTime": {
     "end_time": "2020-12-11T00:32:21.262959Z",
     "start_time": "2020-12-11T00:32:21.183997Z"
    }
   },
   "outputs": [
    {
     "data": {
      "text/plain": [
       "array([-4.00000000e+00+0.j, -2.00000000e+00+0.j, -1.00000000e+00+1.j,\n",
       "       -1.00000000e+00-1.j,  6.24500451e-17+1.j,  6.24500451e-17-1.j])"
      ]
     },
     "execution_count": 2,
     "metadata": {},
     "output_type": "execute_result"
    }
   ],
   "source": [
    "p1 = np.array([1,8,23,36,38,28,16])\n",
    "np.roots(p1)"
   ]
  },
  {
   "cell_type": "markdown",
   "metadata": {},
   "source": [
    "# Pregunta 3.2"
   ]
  },
  {
   "cell_type": "code",
   "execution_count": 7,
   "metadata": {
    "ExecuteTime": {
     "end_time": "2020-12-11T00:37:19.497754Z",
     "start_time": "2020-12-11T00:37:19.481809Z"
    }
   },
   "outputs": [
    {
     "name": "stdout",
     "output_type": "stream",
     "text": [
      "[ 1.0e+00+0.j -1.1e+01+0.j  3.9e+01+0.j  1.1e+01+0.j -7.4e+02+0.j\n",
      "  2.7e+03+0.j -2.0e+03+0.j]\n"
     ]
    }
   ],
   "source": [
    "p2 = [1,-4,5,2-4j,2+4j,5]\n",
    "ans = np.array([1])\n",
    "for i in range(0,6):\n",
    "    ans = sc.signal.convolve(ans,np.array([1,-p2[i]])) \n",
    "print(ans)"
   ]
  },
  {
   "cell_type": "markdown",
   "metadata": {},
   "source": [
    "$$\n",
    "s^{6} - 11s^{5} + 39s^{4} + 11s^{3} - 740s^{2} + 2700s - 2000\n",
    "$$"
   ]
  },
  {
   "cell_type": "markdown",
   "metadata": {},
   "source": [
    "# Pregunta 3.3"
   ]
  },
  {
   "cell_type": "code",
   "execution_count": 9,
   "metadata": {
    "ExecuteTime": {
     "end_time": "2020-12-11T00:42:29.875619Z",
     "start_time": "2020-12-11T00:42:29.864527Z"
    }
   },
   "outputs": [
    {
     "name": "stdout",
     "output_type": "stream",
     "text": [
      "\n",
      "                s^3 + 12 s^2 + 47 s + 60\n",
      "-------------------------------------------------------\n",
      "4 s^6 + 28 s^5 + 83 s^4 + 135 s^3 + 126 s^2 + 62 s + 12\n",
      "\n"
     ]
    }
   ],
   "source": [
    "p1 = np.array([1,12,47,60])\n",
    "p2 = np.array([4,28,83,135,126,62,12])\n",
    "transfer_function = tf(p1,p2)\n",
    "print(transfer_function)"
   ]
  },
  {
   "cell_type": "code",
   "execution_count": 10,
   "metadata": {
    "ExecuteTime": {
     "end_time": "2020-12-11T00:43:30.038070Z",
     "start_time": "2020-12-11T00:43:30.026163Z"
    }
   },
   "outputs": [
    {
     "data": {
      "text/plain": [
       "array([-2. +0.j, -1. +1.j, -1. -1.j, -1.5+0.j, -1. +0.j, -0.5+0.j])"
      ]
     },
     "execution_count": 10,
     "metadata": {},
     "output_type": "execute_result"
    }
   ],
   "source": [
    "pole(transfer_function)"
   ]
  },
  {
   "cell_type": "code",
   "execution_count": 11,
   "metadata": {
    "ExecuteTime": {
     "end_time": "2020-12-11T00:43:35.633618Z",
     "start_time": "2020-12-11T00:43:35.626164Z"
    }
   },
   "outputs": [
    {
     "data": {
      "text/plain": [
       "array([-5., -4., -3.])"
      ]
     },
     "execution_count": 11,
     "metadata": {},
     "output_type": "execute_result"
    }
   ],
   "source": [
    "zero(transfer_function)"
   ]
  },
  {
   "cell_type": "markdown",
   "metadata": {},
   "source": [
    "# Pregunta 3.4\n"
   ]
  },
  {
   "cell_type": "code",
   "execution_count": 13,
   "metadata": {
    "ExecuteTime": {
     "end_time": "2020-12-11T00:44:52.593161Z",
     "start_time": "2020-12-11T00:44:52.584798Z"
    }
   },
   "outputs": [
    {
     "data": {
      "text/plain": [
       "(array([ 10.5-1.24344979e-15j, -24. -2.13162821e-14j,\n",
       "          2. +5.00000000e-01j,   2. -5.00000000e-01j,\n",
       "         10.5+1.11910481e-14j,  -1. -4.44089210e-16j]),\n",
       " array([-0.5+0.j, -1. +0.j, -1. +1.j, -1. -1.j, -1.5+0.j, -2. +0.j]),\n",
       " array([], dtype=float64))"
      ]
     },
     "execution_count": 13,
     "metadata": {},
     "output_type": "execute_result"
    }
   ],
   "source": [
    "sc.signal.residue(p1,p2)"
   ]
  },
  {
   "cell_type": "markdown",
   "metadata": {},
   "source": [
    "$$\n",
    "\\frac{P_{1}}{P_{2}} = \\frac{10.5}{s+0.5} +\\frac{-24}{s+1}+ \\frac{2+0.5j}{s+1-j}+ \\frac{2-0.5j}{s+1+j}+\\frac{10.5}{s+1.5}+\\frac{-1}{s+2}\n",
    "$$"
   ]
  },
  {
   "cell_type": "markdown",
   "metadata": {},
   "source": [
    "# Pregunta 3.5"
   ]
  },
  {
   "cell_type": "code",
   "execution_count": 16,
   "metadata": {
    "ExecuteTime": {
     "end_time": "2020-12-11T00:48:42.157789Z",
     "start_time": "2020-12-11T00:48:42.149909Z"
    }
   },
   "outputs": [
    {
     "name": "stdout",
     "output_type": "stream",
     "text": [
      "\n",
      "  s^5 + 15 s^4 + 56 s^3 + 70 s^2 + 108 s + 80\n",
      "-----------------------------------------------\n",
      "2 s^6 + 9 s^5 + 26 s^4 + 45 s^3 + 46 s^2 + 40 s\n",
      "\n"
     ]
    }
   ],
   "source": [
    "n_values = [[1,1],[1,0,2],[1,4],[1,10]]\n",
    "d_values = [[1,0],[1,2],[1,2,5],[2,1,4]]\n",
    "p1 = np.array([1])\n",
    "p2 = np.array([1])\n",
    "for i in range(len(n_values)):\n",
    "    polynom = np.array(n_values[i])\n",
    "    p1 = sc.signal.convolve(p1,polynom)\n",
    "\n",
    "for i in range(len(d_values)):\n",
    "    polynom = np.array(d_values[i])\n",
    "    p2 = sc.signal.convolve(p2,polynom)\n",
    "\n",
    "transfer_function = tf(p1,p2)\n",
    "print(transfer_function)"
   ]
  },
  {
   "cell_type": "code",
   "execution_count": 17,
   "metadata": {
    "ExecuteTime": {
     "end_time": "2020-12-11T00:48:59.140719Z",
     "start_time": "2020-12-11T00:48:59.120848Z"
    }
   },
   "outputs": [
    {
     "data": {
      "text/plain": [
       "A = [[-4.50000000e+00 -1.30000000e+00 -2.25000000e+00  2.30000000e+00\n",
       "  -2.00000000e+00 -1.77635684e-15]\n",
       " [ 1.00000000e+01 -4.72227582e-16 -8.52827909e-17  1.29655032e-15\n",
       "  -9.87270021e-16 -3.16267966e-17]\n",
       " [ 0.00000000e+00  1.00000000e+00  3.54919833e-17 -3.24470333e-17\n",
       "   2.62203826e-17  1.93007607e-16]\n",
       " [ 0.00000000e+00  0.00000000e+00 -1.00000000e+00  8.18091527e-16\n",
       "  -6.16837548e-16 -4.13856590e-16]\n",
       " [ 0.00000000e+00  0.00000000e+00  0.00000000e+00 -1.00000000e+00\n",
       "  -8.32827089e-16  1.45959706e-16]\n",
       " [ 0.00000000e+00  0.00000000e+00  0.00000000e+00  0.00000000e+00\n",
       "   1.00000000e+00  2.22044605e-16]]\n",
       "\n",
       "B = [[1.]\n",
       " [0.]\n",
       " [0.]\n",
       " [0.]\n",
       " [0.]\n",
       " [0.]]\n",
       "\n",
       "C = [[ 0.5   0.75  2.8  -3.5   5.4   4.  ]]\n",
       "\n",
       "D = [[0.]]"
      ]
     },
     "execution_count": 17,
     "metadata": {},
     "output_type": "execute_result"
    }
   ],
   "source": [
    "tf2ss(transfer_function)"
   ]
  }
 ],
 "metadata": {
  "kernelspec": {
   "display_name": "Python 3",
   "language": "python",
   "name": "python3"
  },
  "language_info": {
   "codemirror_mode": {
    "name": "ipython",
    "version": 3
   },
   "file_extension": ".py",
   "mimetype": "text/x-python",
   "name": "python",
   "nbconvert_exporter": "python",
   "pygments_lexer": "ipython3",
   "version": "3.9.1"
  },
  "toc": {
   "base_numbering": 1,
   "nav_menu": {},
   "number_sections": true,
   "sideBar": true,
   "skip_h1_title": false,
   "title_cell": "Table of Contents",
   "title_sidebar": "Contents",
   "toc_cell": false,
   "toc_position": {},
   "toc_section_display": true,
   "toc_window_display": false
  },
  "varInspector": {
   "cols": {
    "lenName": 16,
    "lenType": 16,
    "lenVar": 40
   },
   "kernels_config": {
    "python": {
     "delete_cmd_postfix": "",
     "delete_cmd_prefix": "del ",
     "library": "var_list.py",
     "varRefreshCmd": "print(var_dic_list())"
    },
    "r": {
     "delete_cmd_postfix": ") ",
     "delete_cmd_prefix": "rm(",
     "library": "var_list.r",
     "varRefreshCmd": "cat(var_dic_list()) "
    }
   },
   "types_to_exclude": [
    "module",
    "function",
    "builtin_function_or_method",
    "instance",
    "_Feature"
   ],
   "window_display": false
  }
 },
 "nbformat": 4,
 "nbformat_minor": 4
}

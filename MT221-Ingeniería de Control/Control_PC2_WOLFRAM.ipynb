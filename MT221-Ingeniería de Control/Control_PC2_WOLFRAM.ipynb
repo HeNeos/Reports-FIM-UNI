{
 "cells": [
  {
   "cell_type": "code",
   "execution_count": null,
   "metadata": {},
   "outputs": [],
   "source": [
    "idkA = {{-5, -1}, {3, -1}};\n",
    "idkB = {2, 5};\n",
    "idkC = {1, 2};\n",
    "idkD = {0};\n",
    "\n",
    "phi[s_] = Inverse[s*IdentityMatrix[2] - idkA]\n",
    "Print[\"State Transition Matrix:\"];\n",
    "(*MatrixForm[phi[s]];*)\n",
    "\n",
    "H = Simplify[idkC.phi[s].idkB + idkD][[1]]"
   ]
  },
  {
   "cell_type": "code",
   "execution_count": 38,
   "metadata": {},
   "outputs": [
    {
     "data": {
      "text/html": [
       "<style>\n",
       "\t\t\t\t\t\t\t\t\t\t\t\t\t.grid-container {\n",
       "\t\t\t\t\t\t\t\t\t\t\t\t\t\tdisplay: inline-grid;\n",
       "\t\t\t\t\t\t\t\t\t\t\t\t\t\tgrid-template-columns: auto;\n",
       "\t\t\t\t\t\t\t\t\t\t\t\t\t}\n",
       "\t\t\t\t\t\t\t\t\t\t\t\t</style>\n",
       "\n",
       "\t\t\t\t\t\t\t\t\t\t\t\t<div><div class=\"grid-container\"><div class=\"grid-item\"><img alt=\"Output\" src=\"data:image/png;base64,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\"></div><div class=\"grid-item\"><img alt=\"Output\" src=\"data:image/png;base64,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\"></div></div></div>"
      ],
      "text/plain": [
       "2       3       11 Sqrt[6] Cos[Sqrt[6] t] + 7 Sin[Sqrt[6] t]\n",
       "-- + -------- - --------------------------------------------\n",
       "35        7 t                              2 t\n",
       "     217 E                    155 Sqrt[6] E\n",
       "-Graphics-"
      ]
     },
     "execution_count": 40,
     "metadata": {
      "text/html": [],
      "text/plain": []
     },
     "output_type": "execute_result"
    }
   ],
   "source": [
    "valM = 4;\n",
    "valN = 7;\n",
    "f[t_] = InverseLaplaceTransform[(s+valM)/(s*(s+valN)*(s^2+4*s+10)),s,t]\n",
    "\n",
    "maxi = MaxValue[{f[t], 1.5 < t < 10}, t];\n",
    "\n",
    "l = 0.1*maxi;\n",
    "r = 0.9*maxi;\n",
    "\n",
    "(*Print[l, \" \", r]\n",
    "NSolve[f[t] == l && 1 > t > 0, t, Reals]\n",
    "NSolve[f[t] == r && 10> t > 5, t, Reals]\n",
    "*)\n",
    "(*\n",
    "Print[\"t0=\",t0 = t /. Quiet[Solve[f[t] == l,t]][[1]]]\n",
    "Print[\"tf=\",tf = t /. Quiet[Solve[f[t] == r, t]][[1]]]\n",
    "\n",
    "Print[\"Tr=\",Tr = tf - t0]\n",
    "\n",
    "Print[\"Ts=\",Ts = t /. Quiet[Solve[f[t] == 0.98*maxi,t]][[1]]]\n",
    "*)\n",
    "Plot[f[t],{t,0,4}, PlotRange -> {0,0.07}]"
   ]
  },
  {
   "cell_type": "code",
   "execution_count": 51,
   "metadata": {},
   "outputs": [
    {
     "data": {
      "text/html": [
       "<style>\n",
       "\t\t\t\t\t\t\t\t\t\t\t\t\t.grid-container {\n",
       "\t\t\t\t\t\t\t\t\t\t\t\t\t\tdisplay: inline-grid;\n",
       "\t\t\t\t\t\t\t\t\t\t\t\t\t\tgrid-template-columns: auto;\n",
       "\t\t\t\t\t\t\t\t\t\t\t\t\t}\n",
       "\t\t\t\t\t\t\t\t\t\t\t\t</style>\n",
       "\n",
       "\t\t\t\t\t\t\t\t\t\t\t\t<div><div class=\"grid-container\"><div class=\"grid-item\"><img alt=\"Output\" src=\"data:image/png;base64,iVBORw0KGgoAAAANSUhEUgAAAIwAAAAkCAIAAADU7UXqAAAAhXpUWHRSYXcgcHJvZmlsZSB0eXBlIGV4aWYAAHjaVYvBDcMwDAP/mqIjyLJM2uMYiQNkg45fuu0n9yApgbT1vi97felp2dgxABc5csRU6P6juNciDXn+X9MfZGWgoRhTluEkhnJXkqKFN+LCAahYcIbnIV8gNQN3o86928QyPusLVffpbh/5eCey76LuBgAAAAlwSFlzAAALEwAACxMBAJqcGAAAADx0RVh0U29mdHdhcmUAQ3JlYXRlZCB3aXRoIHRoZSBXb2xmcmFtIExhbmd1YWdlIDogd3d3LndvbGZyYW0uY29tXKKmhQAAACF0RVh0Q3JlYXRpb24gVGltZQAyMDIxOjAxOjA2IDE4OjEyOjMytvCP+wAAAyRJREFUaIHtWjtyqzAUvXrzFuBFgAuPVwArADep3KaDMjTpUrhw5waVpnPrKk2kFZAVeFIg7UWvwPYDow/+YWui09gzCHG4R/ciuAcJIcAecBz62XdCxDp6NJUB8efRBM4BTf3tNAkeTWNwWCQSTeNdvnmfaIZwSrnqEA7RHiFWDXpSWCNSLdGbpx3Eqkp1+iqbElGjNMzydLBEJJrGQLTB5ZxzDgDs8KcNfxIUMUIpvR/H+8EKkTheFlDECCGE/Owbivi0ZnHOGGOs+vmpGGOMdVTy3kohhHj5RMhCqYRlYHkACVEcJHnOrprgOWFFJl2PxrbBz6bEsg08Ela9J/1O/JJMshtOJAvgRLIATiQL4ESyAH/rn8Vi8VAaDqfIsmw0GtX/3RbcArhyZwGcSBbAiWQBnEjDg+M0DMMw7d17dBuH4cE59zyP4/AVNr0akC6Thofn7YWZjvu1iKUiUXzMRJqiNm7VMKO450QNMgDHpkOLxv9GxOX2hXqOwdqBHK9+PlodE01AJCJxXMHsIHG0bjSfSALBxL8Ny2hc9ZGpRQZoil5hw/KWYYim/sG/wOZb/6I4D+tD4jhdwftJU0sXkE4bkOWKvqWupckIUbVEGyENWn1T5YVMY9pESHKct76UfFYNw/0UivtT8u83efd0kgBAEARBECT9AtLJJP4FL9K+JV1lkL8rWpqX2HS82aQyrHolmcaQalfXdpoifzvPE9hVspKnYaj1IfWyGZ11+9FaCFGWZVmW634B6YjEAGQFjeNlkXzISF5u0/HGII2nkUwXNEUxEFG+jWXcdQxNPiSTzeiWLiVVQPrt7jh+VaTRw2063ngKRbycMLGOGnnVk6HZh6TnP9Dtd2to3imMJFFV+uOIS2w6skuZyXQmajyUNETNDE02Is3xG7mUVAHpZFI35TheFoHyaWSAzqZjLmanZOoXgsOS3y/NaM3mWx8hhFC8y9ltnUBX2ozOO10ZEOmyGMKWZs4jIQYj8wxQB0TyTIpmYNp13QD0C2Y9luUwZJ4BuoDIRWXGEnslzrjC/ck8A3R36T6wWgD3gdUCOJEswD/CcGpTMI7l/AAAAABJRU5ErkJggg==\"></div><div class=\"grid-item\"><img alt=\"Output\" src=\"data:image/png;base64,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\"></div></div></div>"
      ],
      "text/plain": [
       "         4 + s\n",
       "-----------------------\n",
       "                     2\n",
       "(7 + s) (10 + 4 s + s )\n",
       "               2           3           4            5\n",
       "2    41 s   9 s     10543 s    153557 s    1754061 s         6\n",
       "-- - ---- + ----- + -------- - --------- + ----------- + O[s]\n",
       "35   2450   85750   6002500    210087500   14706125000"
      ]
     },
     "execution_count": 51,
     "metadata": {
      "text/html": [],
      "text/plain": []
     },
     "output_type": "execute_result"
    }
   ],
   "source": [
    "f[s_] = (s+valM)/((s+valN)*(s^2+4*s+10))\n",
    "Series[f[s],{s,0,5}]"
   ]
  }
 ],
 "metadata": {
  "kernelspec": {
   "display_name": "Wolfram Language 12",
   "language": "Wolfram Language",
   "name": "wolframlanguage12"
  },
  "language_info": {
   "codemirror_mode": "mathematica",
   "file_extension": ".m",
   "mimetype": "application/vnd.wolfram.m",
   "name": "Wolfram Language",
   "pygments_lexer": "mathematica",
   "version": "12.0"
  }
 },
 "nbformat": 4,
 "nbformat_minor": 4
}

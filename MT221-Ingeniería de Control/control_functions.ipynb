{
 "cells": [
  {
   "cell_type": "code",
   "execution_count": 18,
   "metadata": {
    "ExecuteTime": {
     "end_time": "2020-12-10T22:55:29.495632Z",
     "start_time": "2020-12-10T22:55:25.170993Z"
    }
   },
   "outputs": [],
   "source": [
    "import control\n",
    "from control.matlab import *\n",
    "import numpy as np\n",
    "import scipy as sc\n",
    "import matplotlib.pyplot as plt\n",
    "plt.style.use('seaborn-darkgrid')"
   ]
  },
  {
   "cell_type": "code",
   "execution_count": 21,
   "metadata": {
    "ExecuteTime": {
     "end_time": "2020-12-10T22:55:29.633667Z",
     "start_time": "2020-12-10T22:55:29.513260Z"
    }
   },
   "outputs": [
    {
     "data": {
      "text/plain": [
       "(array([-0.36875017+0.j,  0.47627705+0.j,  1.        +0.j]),\n",
       " array([[-8.21513645e-01, -7.26495029e-01, -1.28763253e-16],\n",
       "        [ 5.39979839e-01, -6.27510298e-01,  2.57526507e-16],\n",
       "        [ 1.83131390e-01, -2.80063920e-01,  1.00000000e+00]]))"
      ]
     },
     "execution_count": 21,
     "metadata": {},
     "output_type": "execute_result"
    }
   ],
   "source": [
    "sc.linalg.eig(np.array([[1,2,-3],[2,0,5],[2,7,-2]]),np.array([[1,4,-3],[2,5,5],[10,7,-2]]))"
   ]
  },
  {
   "cell_type": "markdown",
   "metadata": {},
   "source": [
    "## Convolve and deconvolve\n",
    "\n",
    "\\begin{align}\n",
    "&p_{1} = s^{2}+4s+3\\\\\n",
    "&p_{2} = 4s^{4}+5s^{3}+6s^{2}+7s+8\n",
    "\\end{align}\n",
    "```convolve```: $p_{1}\\times p_{2} = ?$, return the multiplication\n",
    "\n",
    "```deconvolve```: $p_{1}/p_{2}$, return numerator and denominator"
   ]
  },
  {
   "cell_type": "code",
   "execution_count": 22,
   "metadata": {
    "ExecuteTime": {
     "end_time": "2020-12-10T22:55:29.821559Z",
     "start_time": "2020-12-10T22:55:29.672903Z"
    }
   },
   "outputs": [
    {
     "data": {
      "text/plain": [
       "([], array([1, 4, 3]))"
      ]
     },
     "execution_count": 22,
     "metadata": {},
     "output_type": "execute_result"
    }
   ],
   "source": [
    "p1 = np.array([1,4,3])\n",
    "p2 = np.array([4,5,6,7,8])\n",
    "sc.signal.convolve(p1,p2)\n",
    "sc.signal.deconvolve(p1,p2)"
   ]
  },
  {
   "cell_type": "code",
   "execution_count": 23,
   "metadata": {
    "ExecuteTime": {
     "end_time": "2020-12-10T22:55:31.616268Z",
     "start_time": "2020-12-10T22:55:31.526235Z"
    }
   },
   "outputs": [
    {
     "data": {
      "text/plain": [
       "array([-3., -1.])"
      ]
     },
     "execution_count": 23,
     "metadata": {},
     "output_type": "execute_result"
    }
   ],
   "source": [
    "np.roots(p1)"
   ]
  },
  {
   "cell_type": "markdown",
   "metadata": {},
   "source": [
    "## Partial fractions"
   ]
  },
  {
   "cell_type": "code",
   "execution_count": 24,
   "metadata": {
    "ExecuteTime": {
     "end_time": "2020-12-10T22:55:33.708300Z",
     "start_time": "2020-12-10T22:55:33.654435Z"
    }
   },
   "outputs": [
    {
     "data": {
      "text/plain": [
       "(array([-0.05298209-0.21294164j, -0.05298209+0.21294164j,\n",
       "         0.05298209+0.0680925j ,  0.05298209-0.0680925j ]),\n",
       " array([ 0.34306934+1.13567166j,  0.34306934-1.13567166j,\n",
       "        -0.96806934+0.69559666j, -0.96806934-0.69559666j]),\n",
       " array([], dtype=float64))"
      ]
     },
     "execution_count": 24,
     "metadata": {},
     "output_type": "execute_result"
    }
   ],
   "source": [
    "sc.signal.residue(p1,p2)"
   ]
  },
  {
   "cell_type": "markdown",
   "metadata": {},
   "source": [
    "## Transfer function"
   ]
  },
  {
   "cell_type": "code",
   "execution_count": 25,
   "metadata": {
    "ExecuteTime": {
     "end_time": "2020-12-10T22:55:35.679583Z",
     "start_time": "2020-12-10T22:55:35.666706Z"
    }
   },
   "outputs": [
    {
     "data": {
      "text/latex": [
       "$$\\frac{s^2 + 4 s + 3}{4 s^4 + 5 s^3 + 6 s^2 + 7 s + 8}$$"
      ],
      "text/plain": [
       "\n",
       "         s^2 + 4 s + 3\n",
       "-------------------------------\n",
       "4 s^4 + 5 s^3 + 6 s^2 + 7 s + 8"
      ]
     },
     "execution_count": 25,
     "metadata": {},
     "output_type": "execute_result"
    }
   ],
   "source": [
    "tf(p1,p2)"
   ]
  },
  {
   "cell_type": "markdown",
   "metadata": {},
   "source": [
    "### Polos"
   ]
  },
  {
   "cell_type": "code",
   "execution_count": 26,
   "metadata": {
    "ExecuteTime": {
     "end_time": "2020-12-10T22:55:37.152419Z",
     "start_time": "2020-12-10T22:55:37.131447Z"
    }
   },
   "outputs": [
    {
     "data": {
      "text/plain": [
       "array([ 0.34306934+1.13567166j,  0.34306934-1.13567166j,\n",
       "       -0.96806934+0.69559666j, -0.96806934-0.69559666j])"
      ]
     },
     "execution_count": 26,
     "metadata": {},
     "output_type": "execute_result"
    }
   ],
   "source": [
    "np.roots(p2)"
   ]
  },
  {
   "cell_type": "markdown",
   "metadata": {},
   "source": [
    "### Ceros"
   ]
  },
  {
   "cell_type": "code",
   "execution_count": 27,
   "metadata": {
    "ExecuteTime": {
     "end_time": "2020-12-10T22:55:39.110818Z",
     "start_time": "2020-12-10T22:55:39.093740Z"
    }
   },
   "outputs": [
    {
     "data": {
      "text/plain": [
       "array([-3., -1.])"
      ]
     },
     "execution_count": 27,
     "metadata": {},
     "output_type": "execute_result"
    }
   ],
   "source": [
    "np.roots(p1)"
   ]
  },
  {
   "cell_type": "markdown",
   "metadata": {},
   "source": [
    "## Control library\n",
    "```pzmap``` return poles and zeros, also plot the values."
   ]
  },
  {
   "cell_type": "code",
   "execution_count": 28,
   "metadata": {
    "ExecuteTime": {
     "end_time": "2020-12-10T22:55:41.398421Z",
     "start_time": "2020-12-10T22:55:40.845519Z"
    }
   },
   "outputs": [
    {
     "data": {
      "text/plain": [
       "(array([ 0.34306934+1.13567166j,  0.34306934-1.13567166j,\n",
       "        -0.96806934+0.69559666j, -0.96806934-0.69559666j]),\n",
       " array([-3., -1.]))"
      ]
     },
     "execution_count": 28,
     "metadata": {},
     "output_type": "execute_result"
    },
    {
     "data": {
      "image/png": "[encoded data removed]",
      "text/plain": [
       "<Figure size 640x480 with 1 Axes>"
      ]
     },
     "metadata": {},
     "output_type": "display_data"
    }
   ],
   "source": [
    "control.pzmap(tf(p1,p2))"
   ]
  },
  {
   "cell_type": "markdown",
   "metadata": {},
   "source": [
    "## Transfer function to Space State"
   ]
  },
  {
   "cell_type": "code",
   "execution_count": 29,
   "metadata": {
    "ExecuteTime": {
     "end_time": "2020-12-10T22:58:16.285714Z",
     "start_time": "2020-12-10T22:58:16.270257Z"
    }
   },
   "outputs": [
    {
     "name": "stdout",
     "output_type": "stream",
     "text": [
      "A = [[-1.25 -1.5  -1.75 -2.  ]\n",
      " [ 1.    0.    0.    0.  ]\n",
      " [ 0.    1.    0.    0.  ]\n",
      " [ 0.    0.    1.    0.  ]]\n",
      "\n",
      "B = [[1.]\n",
      " [0.]\n",
      " [0.]\n",
      " [0.]]\n",
      "\n",
      "C = [[0.   0.25 1.   0.75]]\n",
      "\n",
      "D = [[0.]]\n",
      "\n",
      "(array([[-1.25, -1.5 , -1.75, -2.  ],\n",
      "       [ 1.  ,  0.  ,  0.  ,  0.  ],\n",
      "       [ 0.  ,  1.  ,  0.  ,  0.  ],\n",
      "       [ 0.  ,  0.  ,  1.  ,  0.  ]]), array([[1.],\n",
      "       [0.],\n",
      "       [0.],\n",
      "       [0.]]), array([[0.  , 0.25, 1.  , 0.75]]), array([[0.]]))\n"
     ]
    }
   ],
   "source": [
    "ss = control.tf2ss(tf(p1,p2))\n",
    "n_ss = sc.signal.tf2ss(p1,p2)\n",
    "print(ss)\n",
    "print(n_ss)"
   ]
  },
  {
   "cell_type": "code",
   "execution_count": 30,
   "metadata": {
    "ExecuteTime": {
     "end_time": "2020-12-10T22:59:01.779827Z",
     "start_time": "2020-12-10T22:59:01.771253Z"
    }
   },
   "outputs": [
    {
     "name": "stdout",
     "output_type": "stream",
     "text": [
      "\n",
      "-2.442e-15 s^3 + 0.25 s^2 + s + 0.75\n",
      "-------------------------------------\n",
      "s^4 + 1.25 s^3 + 1.5 s^2 + 1.75 s + 2\n",
      "\n"
     ]
    }
   ],
   "source": [
    "_tf = ss2tf(ss)\n",
    "print(_tf)"
   ]
  },
  {
   "cell_type": "markdown",
   "metadata": {},
   "source": [
    "# Time Response Analysis"
   ]
  },
  {
   "cell_type": "code",
   "execution_count": 37,
   "metadata": {},
   "outputs": [],
   "source": [
    "def multiply_poly(a):\n",
    "    p1 = np.array([1])\n",
    "    for i in range(len(a)):\n",
    "        polynom = np.array(a[i])\n",
    "        p1 = sc.signal.convolve(p1, polynom)\n",
    "    return p1"
   ]
  },
  {
   "cell_type": "code",
   "execution_count": 52,
   "metadata": {},
   "outputs": [
    {
     "name": "stdout",
     "output_type": "stream",
     "text": [
      "\n",
      "            s + 3\n",
      "----------------------------\n",
      "s^4 + 11 s^3 + 38 s^2 + 40 s\n",
      "\n",
      "(array([1., 3.]), array([ 1., 11., 38., 40.,  0.]))\n"
     ]
    }
   ],
   "source": [
    "transfer_function = tf(multiply_poly([[1,3]]), multiply_poly([[1,0],[1,2],[1,4],[1,5]]))\n",
    "print(transfer_function)\n",
    "transfer_function = zpk2tf([-3],[0,-2,-4,-5],1)\n",
    "print(transfer_function)"
   ]
  },
  {
   "cell_type": "markdown",
   "metadata": {},
   "source": [
    "## Second Order"
   ]
  },
  {
   "cell_type": "code",
   "execution_count": 191,
   "metadata": {},
   "outputs": [],
   "source": [
    "def solve_second(den):\n",
    "    time = np.linspace(0,4,100)\n",
    "    b = den[2]\n",
    "    a = den[1]\n",
    "    wn = np.sqrt(b)\n",
    "    zeta = a/(2*wn)\n",
    "    \n",
    "    flag = False\n",
    "    \n",
    "    print(\"ωn=\",wn)\n",
    "    print(\"ζ=\",zeta)\n",
    "    \n",
    "    if(zeta == 0):\n",
    "        flag = True\n",
    "        print(\"Undamped\")\n",
    "    elif(zeta > 0 and zeta < 1):\n",
    "        flag = True\n",
    "        print(\"Underdamped\")\n",
    "    elif(zeta == 1):\n",
    "        print(\"Critically Damped\")\n",
    "    elif(zeta > 1):\n",
    "        print(\"Overdamped\")\n",
    "    \n",
    "    if(flag):\n",
    "        coeff = 1/(np.sqrt(1-zeta*zeta))\n",
    "        phi = np.arctan(zeta/np.sqrt(1-zeta*zeta))\n",
    "        angle_arg = wn*np.sqrt(1-zeta*zeta)\n",
    "        exp_arg = -zeta*wn    \n",
    "        \n",
    "        Tp = np.pi/(angle_arg)\n",
    "        Ts = 4/(zeta*wn)\n",
    "        wd = wn*np.sqrt(1-zeta*zeta)\n",
    "        beta = np.arctan(abs(wd/(zeta*wn)))\n",
    "        Tr = (np.pi-beta)/wd\n",
    "        OS = 100*np.exp(-zeta*np.pi/(np.sqrt(1-zeta**2)))\n",
    "        print(\"Tp=\",Tp)\n",
    "        print(\"Tr=\",Tr)\n",
    "        print(\"Ts=\",Ts)\n",
    "        print(\"%OS=\",OS)\n",
    "        \n",
    "        exp_part = \"1-\"+str(np.around(coeff,5))+\"*e^(\"+str(np.around(exp_arg,5))+\"*t)\"\n",
    "        cos_part = \"cos(\"+str(np.around(angle_arg,5))+\"*t\"\n",
    "        if(phi > 0):\n",
    "            cos_part += \"-\"+str(np.around(phi,5))+\")\"\n",
    "        else:\n",
    "            cos_part += \"+\"+str(np.around(phi,5))+\")\"\n",
    "\n",
    "        print(exp_part+\"*\"+cos_part)\n",
    "        \n",
    "        \n",
    "        plt.figure(figsize=(6,4))\n",
    "        plt.plot(time, 1-coeff*np.exp(exp_arg*time)*np.cos(angle_arg*time-phi))\n",
    "    else:\n",
    "        if(zeta==1):\n",
    "            print(\"1-e^(-\"+str(np.around(wn,5))+\"*t)*(1+\"+str(np.around(wn,5))+\"*t)\")\n",
    "            plt.figure(figsize=(6,4))\n",
    "            plt.plot(time, 1-np.exp(-wn*time)*(1+wn*time))\n",
    "        else:\n",
    "            print(\"1-e^(-\"+str(np.around(wn*(zeta-np.sqrt(zeta*zeta-1)),5))+\"*t)\")\n",
    "            plt.figure(figsize=(6,4))\n",
    "            plt.plot(time, 1-np.exp(-(zeta-np.sqrt(zeta*zeta-1))*wn*time))\n",
    "            "
   ]
  },
  {
   "cell_type": "code",
   "execution_count": 192,
   "metadata": {},
   "outputs": [
    {
     "name": "stdout",
     "output_type": "stream",
     "text": [
      "ωn= 4.0\n",
      "ζ= 0.5\n",
      "Underdamped\n",
      "Tp= 0.9068996821171089\n",
      "Tr= 0.6045997880780727\n",
      "Ts= 2.0\n",
      "%OS= 16.303353482158048\n",
      "1-1.1547*e^(-2.0*t)*cos(3.4641*t-0.5236)\n"
     ]
    },
    {
     "data": {
      "image/png": "[encoded data removed]",
      "text/plain": [
       "<Figure size 480x320 with 1 Axes>"
      ]
     },
     "metadata": {},
     "output_type": "display_data"
    }
   ],
   "source": [
    "solve_second([1,4,16])"
   ]
  },
  {
   "cell_type": "code",
   "execution_count": null,
   "metadata": {},
   "outputs": [],
   "source": []
  }
 ],
 "metadata": {
  "kernelspec": {
   "display_name": "Python 3",
   "language": "python",
   "name": "python3"
  },
  "language_info": {
   "codemirror_mode": {
    "name": "ipython",
    "version": 3
   },
   "file_extension": ".py",
   "mimetype": "text/x-python",
   "name": "python",
   "nbconvert_exporter": "python",
   "pygments_lexer": "ipython3",
   "version": "3.7.9"
  },
  "toc": {
   "base_numbering": 1,
   "nav_menu": {},
   "number_sections": true,
   "sideBar": true,
   "skip_h1_title": false,
   "title_cell": "Table of Contents",
   "title_sidebar": "Contents",
   "toc_cell": false,
   "toc_position": {},
   "toc_section_display": true,
   "toc_window_display": false
  },
  "varInspector": {
   "cols": {
    "lenName": 16,
    "lenType": 16,
    "lenVar": 40
   },
   "kernels_config": {
    "python": {
     "delete_cmd_postfix": "",
     "delete_cmd_prefix": "del ",
     "library": "var_list.py",
     "varRefreshCmd": "print(var_dic_list())"
    },
    "r": {
     "delete_cmd_postfix": ") ",
     "delete_cmd_prefix": "rm(",
     "library": "var_list.r",
     "varRefreshCmd": "cat(var_dic_list()) "
    }
   },
   "types_to_exclude": [
    "module",
    "function",
    "builtin_function_or_method",
    "instance",
    "_Feature"
   ],
   "window_display": false
  }
 },
 "nbformat": 4,
 "nbformat_minor": 4
}

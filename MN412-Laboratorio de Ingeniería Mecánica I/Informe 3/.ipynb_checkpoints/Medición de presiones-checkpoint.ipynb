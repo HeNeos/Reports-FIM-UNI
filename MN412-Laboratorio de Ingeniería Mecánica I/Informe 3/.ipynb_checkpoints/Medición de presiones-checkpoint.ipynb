{
 "cells": [
  {
   "cell_type": "code",
   "execution_count": 1,
   "metadata": {},
   "outputs": [],
   "source": [
    "import math\n",
    "import matplotlib.pyplot as plt\n",
    "import numpy as np"
   ]
  },
  {
   "cell_type": "code",
   "execution_count": 2,
   "metadata": {},
   "outputs": [],
   "source": [
    "w = [5,10,20,30,50,70,80,100,150,200,250,300,400,450]\n",
    "ps = [22,30,40,50,70,88,96,115,165,212,260,310,410,460]\n",
    "pb = [25,30,38,50,70,90,100,120,165,215,260,310,410,460]\n",
    "pp = []\n",
    "for i in range(0,len(w)):\n",
    "    pp.append((ps[i]+pb[i])/2)"
   ]
  },
  {
   "cell_type": "code",
   "execution_count": 3,
   "metadata": {},
   "outputs": [],
   "source": [
    "import pandas as pd\n",
    "table = {'W(lb)': w,\n",
    "         'Presión de subida (psi)': ps,\n",
    "         'Presión de bajada (psi)': pb,\n",
    "         'Presión promedio (psi)': pp}\n",
    "df = pd.DataFrame.from_dict(table)"
   ]
  },
  {
   "cell_type": "code",
   "execution_count": 4,
   "metadata": {},
   "outputs": [
    {
     "data": {
      "text/html": [
       "<div>\n",
       "<style scoped>\n",
       "    .dataframe tbody tr th:only-of-type {\n",
       "        vertical-align: middle;\n",
       "    }\n",
       "\n",
       "    .dataframe tbody tr th {\n",
       "        vertical-align: top;\n",
       "    }\n",
       "\n",
       "    .dataframe thead th {\n",
       "        text-align: right;\n",
       "    }\n",
       "</style>\n",
       "<table border=\"1\" class=\"dataframe\">\n",
       "  <thead>\n",
       "    <tr style=\"text-align: right;\">\n",
       "      <th></th>\n",
       "      <th>W(lb)</th>\n",
       "      <th>Presión de subida (psi)</th>\n",
       "      <th>Presión de bajada (psi)</th>\n",
       "      <th>Presión promedio (psi)</th>\n",
       "    </tr>\n",
       "  </thead>\n",
       "  <tbody>\n",
       "    <tr>\n",
       "      <td>0</td>\n",
       "      <td>5</td>\n",
       "      <td>22</td>\n",
       "      <td>25</td>\n",
       "      <td>23.5</td>\n",
       "    </tr>\n",
       "    <tr>\n",
       "      <td>1</td>\n",
       "      <td>10</td>\n",
       "      <td>30</td>\n",
       "      <td>30</td>\n",
       "      <td>30.0</td>\n",
       "    </tr>\n",
       "    <tr>\n",
       "      <td>2</td>\n",
       "      <td>20</td>\n",
       "      <td>40</td>\n",
       "      <td>38</td>\n",
       "      <td>39.0</td>\n",
       "    </tr>\n",
       "    <tr>\n",
       "      <td>3</td>\n",
       "      <td>30</td>\n",
       "      <td>50</td>\n",
       "      <td>50</td>\n",
       "      <td>50.0</td>\n",
       "    </tr>\n",
       "    <tr>\n",
       "      <td>4</td>\n",
       "      <td>50</td>\n",
       "      <td>70</td>\n",
       "      <td>70</td>\n",
       "      <td>70.0</td>\n",
       "    </tr>\n",
       "    <tr>\n",
       "      <td>5</td>\n",
       "      <td>70</td>\n",
       "      <td>88</td>\n",
       "      <td>90</td>\n",
       "      <td>89.0</td>\n",
       "    </tr>\n",
       "    <tr>\n",
       "      <td>6</td>\n",
       "      <td>80</td>\n",
       "      <td>96</td>\n",
       "      <td>100</td>\n",
       "      <td>98.0</td>\n",
       "    </tr>\n",
       "    <tr>\n",
       "      <td>7</td>\n",
       "      <td>100</td>\n",
       "      <td>115</td>\n",
       "      <td>120</td>\n",
       "      <td>117.5</td>\n",
       "    </tr>\n",
       "    <tr>\n",
       "      <td>8</td>\n",
       "      <td>150</td>\n",
       "      <td>165</td>\n",
       "      <td>165</td>\n",
       "      <td>165.0</td>\n",
       "    </tr>\n",
       "    <tr>\n",
       "      <td>9</td>\n",
       "      <td>200</td>\n",
       "      <td>212</td>\n",
       "      <td>215</td>\n",
       "      <td>213.5</td>\n",
       "    </tr>\n",
       "    <tr>\n",
       "      <td>10</td>\n",
       "      <td>250</td>\n",
       "      <td>260</td>\n",
       "      <td>260</td>\n",
       "      <td>260.0</td>\n",
       "    </tr>\n",
       "    <tr>\n",
       "      <td>11</td>\n",
       "      <td>300</td>\n",
       "      <td>310</td>\n",
       "      <td>310</td>\n",
       "      <td>310.0</td>\n",
       "    </tr>\n",
       "    <tr>\n",
       "      <td>12</td>\n",
       "      <td>400</td>\n",
       "      <td>410</td>\n",
       "      <td>410</td>\n",
       "      <td>410.0</td>\n",
       "    </tr>\n",
       "    <tr>\n",
       "      <td>13</td>\n",
       "      <td>450</td>\n",
       "      <td>460</td>\n",
       "      <td>460</td>\n",
       "      <td>460.0</td>\n",
       "    </tr>\n",
       "  </tbody>\n",
       "</table>\n",
       "</div>"
      ],
      "text/plain": [
       "    W(lb)  Presión de subida (psi)  Presión de bajada (psi)  \\\n",
       "0       5                       22                       25   \n",
       "1      10                       30                       30   \n",
       "2      20                       40                       38   \n",
       "3      30                       50                       50   \n",
       "4      50                       70                       70   \n",
       "5      70                       88                       90   \n",
       "6      80                       96                      100   \n",
       "7     100                      115                      120   \n",
       "8     150                      165                      165   \n",
       "9     200                      212                      215   \n",
       "10    250                      260                      260   \n",
       "11    300                      310                      310   \n",
       "12    400                      410                      410   \n",
       "13    450                      460                      460   \n",
       "\n",
       "    Presión promedio (psi)  \n",
       "0                     23.5  \n",
       "1                     30.0  \n",
       "2                     39.0  \n",
       "3                     50.0  \n",
       "4                     70.0  \n",
       "5                     89.0  \n",
       "6                     98.0  \n",
       "7                    117.5  \n",
       "8                    165.0  \n",
       "9                    213.5  \n",
       "10                   260.0  \n",
       "11                   310.0  \n",
       "12                   410.0  \n",
       "13                   460.0  "
      ]
     },
     "execution_count": 4,
     "metadata": {},
     "output_type": "execute_result"
    }
   ],
   "source": [
    "df"
   ]
  },
  {
   "cell_type": "code",
   "execution_count": 5,
   "metadata": {},
   "outputs": [
    {
     "data": {
      "text/plain": [
       "[6.366197723675814,\n",
       " 12.732395447351628,\n",
       " 25.464790894703256,\n",
       " 38.197186342054884,\n",
       " 63.66197723675813,\n",
       " 89.12676813146139,\n",
       " 101.85916357881302,\n",
       " 127.32395447351627,\n",
       " 190.9859317102744,\n",
       " 254.64790894703253,\n",
       " 318.3098861837907,\n",
       " 381.9718634205488,\n",
       " 509.29581789406507,\n",
       " 572.9577951308232]"
      ]
     },
     "execution_count": 5,
     "metadata": {},
     "output_type": "execute_result"
    }
   ],
   "source": [
    "pr = []\n",
    "for i in range(0,len(ps)):\n",
    "    pr.append(4*w[i]/math.pi)\n",
    "pr"
   ]
  },
  {
   "cell_type": "code",
   "execution_count": 6,
   "metadata": {},
   "outputs": [],
   "source": [
    "import sklearn\n",
    "import numpy as np\n",
    "from sklearn.linear_model import LinearRegression\n",
    "npp = np.asarray(pp)\n",
    "npr = np.asarray(pr)\n",
    "nnpr = []\n",
    "ajli = np.polyfit(pp,pr,1)\n",
    "for i in range(len(pp)):\n",
    "    nnpr.append(npp[i]*ajli[0]+ajli[1])"
   ]
  },
  {
   "cell_type": "code",
   "execution_count": 7,
   "metadata": {},
   "outputs": [
    {
     "data": {
      "text/plain": [
       "array([  1.30807148, -25.86423622])"
      ]
     },
     "execution_count": 7,
     "metadata": {},
     "output_type": "execute_result"
    }
   ],
   "source": [
    "ajli"
   ]
  },
  {
   "cell_type": "code",
   "execution_count": 17,
   "metadata": {},
   "outputs": [
    {
     "data": {
      "image/png": "[encoded data removed]",
      "text/plain": [
       "<Figure size 432x288 with 1 Axes>"
      ]
     },
     "metadata": {
      "needs_background": "light"
     },
     "output_type": "display_data"
    }
   ],
   "source": [
    "plt.ylabel('Presión real (psi)')\n",
    "plt.xlabel('Presión promedio (psi)')\n",
    "plt.plot(pp,npr,'-r')\n",
    "plt.plot(pp,pr,'ob')\n",
    "plt.grid()\n",
    "plt.legend((r'Presión ajustada $P_{\\mathrm{real}} = 1.308*P_{\\mathrm{medida}} - 25.86$',r'Presión real $(R^{2} = 0)$'))\n",
    "plt.savefig('presiones.pdf')"
   ]
  },
  {
   "cell_type": "code",
   "execution_count": 15,
   "metadata": {},
   "outputs": [],
   "source": [
    "err = []\n",
    "r2 = 0\n",
    "for i in range(0,len(pr)):\n",
    "    r2 = r2+((pr[i]-npr[i])**2)\n",
    "    err.append(100*abs(pr[i]-pp[i])/max(pr[i],pp[i]))"
   ]
  },
  {
   "cell_type": "code",
   "execution_count": 16,
   "metadata": {},
   "outputs": [
    {
     "data": {
      "text/plain": [
       "0.0"
      ]
     },
     "execution_count": 16,
     "metadata": {},
     "output_type": "execute_result"
    }
   ],
   "source": [
    "r2"
   ]
  },
  {
   "cell_type": "code",
   "execution_count": 10,
   "metadata": {},
   "outputs": [
    {
     "data": {
      "text/plain": [
       "[72.90979692052845,\n",
       " 57.55868184216124,\n",
       " 34.70566437255575,\n",
       " 23.60562731589023,\n",
       " 9.054318233202666,\n",
       " 0.14223351089585948,\n",
       " 3.7887249838125916,\n",
       " 7.715715800799822,\n",
       " 13.606202026280684,\n",
       " 16.158746057322393,\n",
       " 18.318591006665383,\n",
       " 18.842189782263674,\n",
       " 19.496688251761547,\n",
       " 19.714854408260845]"
      ]
     },
     "execution_count": 10,
     "metadata": {},
     "output_type": "execute_result"
    }
   ],
   "source": [
    "err"
   ]
  },
  {
   "cell_type": "code",
   "execution_count": 11,
   "metadata": {},
   "outputs": [
    {
     "data": {
      "text/html": [
       "<div>\n",
       "<style scoped>\n",
       "    .dataframe tbody tr th:only-of-type {\n",
       "        vertical-align: middle;\n",
       "    }\n",
       "\n",
       "    .dataframe tbody tr th {\n",
       "        vertical-align: top;\n",
       "    }\n",
       "\n",
       "    .dataframe thead th {\n",
       "        text-align: right;\n",
       "    }\n",
       "</style>\n",
       "<table border=\"1\" class=\"dataframe\">\n",
       "  <thead>\n",
       "    <tr style=\"text-align: right;\">\n",
       "      <th></th>\n",
       "      <th>Presión promedio (psi)</th>\n",
       "      <th>Presión real (psi)</th>\n",
       "      <th>Error (%)</th>\n",
       "    </tr>\n",
       "  </thead>\n",
       "  <tbody>\n",
       "    <tr>\n",
       "      <td>0</td>\n",
       "      <td>23.5</td>\n",
       "      <td>6.366198</td>\n",
       "      <td>72.909797</td>\n",
       "    </tr>\n",
       "    <tr>\n",
       "      <td>1</td>\n",
       "      <td>30.0</td>\n",
       "      <td>12.732395</td>\n",
       "      <td>57.558682</td>\n",
       "    </tr>\n",
       "    <tr>\n",
       "      <td>2</td>\n",
       "      <td>39.0</td>\n",
       "      <td>25.464791</td>\n",
       "      <td>34.705664</td>\n",
       "    </tr>\n",
       "    <tr>\n",
       "      <td>3</td>\n",
       "      <td>50.0</td>\n",
       "      <td>38.197186</td>\n",
       "      <td>23.605627</td>\n",
       "    </tr>\n",
       "    <tr>\n",
       "      <td>4</td>\n",
       "      <td>70.0</td>\n",
       "      <td>63.661977</td>\n",
       "      <td>9.054318</td>\n",
       "    </tr>\n",
       "    <tr>\n",
       "      <td>5</td>\n",
       "      <td>89.0</td>\n",
       "      <td>89.126768</td>\n",
       "      <td>0.142234</td>\n",
       "    </tr>\n",
       "    <tr>\n",
       "      <td>6</td>\n",
       "      <td>98.0</td>\n",
       "      <td>101.859164</td>\n",
       "      <td>3.788725</td>\n",
       "    </tr>\n",
       "    <tr>\n",
       "      <td>7</td>\n",
       "      <td>117.5</td>\n",
       "      <td>127.323954</td>\n",
       "      <td>7.715716</td>\n",
       "    </tr>\n",
       "    <tr>\n",
       "      <td>8</td>\n",
       "      <td>165.0</td>\n",
       "      <td>190.985932</td>\n",
       "      <td>13.606202</td>\n",
       "    </tr>\n",
       "    <tr>\n",
       "      <td>9</td>\n",
       "      <td>213.5</td>\n",
       "      <td>254.647909</td>\n",
       "      <td>16.158746</td>\n",
       "    </tr>\n",
       "    <tr>\n",
       "      <td>10</td>\n",
       "      <td>260.0</td>\n",
       "      <td>318.309886</td>\n",
       "      <td>18.318591</td>\n",
       "    </tr>\n",
       "    <tr>\n",
       "      <td>11</td>\n",
       "      <td>310.0</td>\n",
       "      <td>381.971863</td>\n",
       "      <td>18.842190</td>\n",
       "    </tr>\n",
       "    <tr>\n",
       "      <td>12</td>\n",
       "      <td>410.0</td>\n",
       "      <td>509.295818</td>\n",
       "      <td>19.496688</td>\n",
       "    </tr>\n",
       "    <tr>\n",
       "      <td>13</td>\n",
       "      <td>460.0</td>\n",
       "      <td>572.957795</td>\n",
       "      <td>19.714854</td>\n",
       "    </tr>\n",
       "  </tbody>\n",
       "</table>\n",
       "</div>"
      ],
      "text/plain": [
       "    Presión promedio (psi)  Presión real (psi)  Error (%)\n",
       "0                     23.5            6.366198  72.909797\n",
       "1                     30.0           12.732395  57.558682\n",
       "2                     39.0           25.464791  34.705664\n",
       "3                     50.0           38.197186  23.605627\n",
       "4                     70.0           63.661977   9.054318\n",
       "5                     89.0           89.126768   0.142234\n",
       "6                     98.0          101.859164   3.788725\n",
       "7                    117.5          127.323954   7.715716\n",
       "8                    165.0          190.985932  13.606202\n",
       "9                    213.5          254.647909  16.158746\n",
       "10                   260.0          318.309886  18.318591\n",
       "11                   310.0          381.971863  18.842190\n",
       "12                   410.0          509.295818  19.496688\n",
       "13                   460.0          572.957795  19.714854"
      ]
     },
     "execution_count": 11,
     "metadata": {},
     "output_type": "execute_result"
    }
   ],
   "source": [
    "table = {'Presión promedio (psi)': pp,\n",
    "         'Presión real (psi)': pr,\n",
    "         'Error (%)': err}\n",
    "df = pd.DataFrame.from_dict(table)\n",
    "df"
   ]
  }
 ],
 "metadata": {
  "kernelspec": {
   "display_name": "Python 3",
   "language": "python",
   "name": "python3"
  },
  "language_info": {
   "codemirror_mode": {
    "name": "ipython",
    "version": 3
   },
   "file_extension": ".py",
   "mimetype": "text/x-python",
   "name": "python",
   "nbconvert_exporter": "python",
   "pygments_lexer": "ipython3",
   "version": "3.7.3"
  }
 },
 "nbformat": 4,
 "nbformat_minor": 2
}

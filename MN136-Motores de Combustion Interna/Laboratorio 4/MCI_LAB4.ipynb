{
 "cells": [
  {
   "cell_type": "code",
   "execution_count": 10,
   "metadata": {},
   "outputs": [
    {
     "name": "stderr",
     "output_type": "stream",
     "text": [
      "Matplotlib is building the font cache; this may take a moment.\n"
     ]
    }
   ],
   "source": [
    "import pandas as pd\n",
    "import numpy as np\n",
    "import matplotlib.pyplot as plt"
   ]
  },
  {
   "cell_type": "markdown",
   "metadata": {},
   "source": [
    "# Prueba de velocidad"
   ]
  },
  {
   "cell_type": "code",
   "execution_count": 22,
   "metadata": {},
   "outputs": [
    {
     "data": {
      "text/html": [
       "<div>\n",
       "<style scoped>\n",
       "    .dataframe tbody tr th:only-of-type {\n",
       "        vertical-align: middle;\n",
       "    }\n",
       "\n",
       "    .dataframe tbody tr th {\n",
       "        vertical-align: top;\n",
       "    }\n",
       "\n",
       "    .dataframe thead th {\n",
       "        text-align: right;\n",
       "    }\n",
       "</style>\n",
       "<table border=\"1\" class=\"dataframe\">\n",
       "  <thead>\n",
       "    <tr style=\"text-align: right;\">\n",
       "      <th></th>\n",
       "      <th>n(rpm)</th>\n",
       "      <th>F(N)</th>\n",
       "      <th>Delta S(cm)</th>\n",
       "      <th>V (cm^3)</th>\n",
       "      <th>delta P(cm)</th>\n",
       "      <th>Humo (m^-1)</th>\n",
       "      <th>TH2O-e(°C)</th>\n",
       "      <th>TH2O-s(°C)</th>\n",
       "      <th>Tacei(°C)</th>\n",
       "      <th>Paceite (psig)</th>\n",
       "      <th>...</th>\n",
       "      <th>etav (%)</th>\n",
       "      <th>ge(L/kW.h)</th>\n",
       "      <th>eta e (%)</th>\n",
       "      <th>Nelec (kWe)</th>\n",
       "      <th>efic. generador (%)</th>\n",
       "      <th>Mm (N.m)</th>\n",
       "      <th>Nm (kW)</th>\n",
       "      <th>eta m (%)</th>\n",
       "      <th>Ni (kW)</th>\n",
       "      <th>eta i (%)</th>\n",
       "    </tr>\n",
       "  </thead>\n",
       "  <tbody>\n",
       "    <tr>\n",
       "      <th>0</th>\n",
       "      <td>2000</td>\n",
       "      <td>85</td>\n",
       "      <td>11.8</td>\n",
       "      <td>9.0</td>\n",
       "      <td>11.4</td>\n",
       "      <td>4.95</td>\n",
       "      <td>69</td>\n",
       "      <td>73</td>\n",
       "      <td>46</td>\n",
       "      <td>50</td>\n",
       "      <td>...</td>\n",
       "      <td>NaN</td>\n",
       "      <td>NaN</td>\n",
       "      <td>NaN</td>\n",
       "      <td>NaN</td>\n",
       "      <td>NaN</td>\n",
       "      <td>NaN</td>\n",
       "      <td>NaN</td>\n",
       "      <td>NaN</td>\n",
       "      <td>NaN</td>\n",
       "      <td>NaN</td>\n",
       "    </tr>\n",
       "    <tr>\n",
       "      <th>1</th>\n",
       "      <td>1800</td>\n",
       "      <td>87</td>\n",
       "      <td>11.1</td>\n",
       "      <td>7.9</td>\n",
       "      <td>10.1</td>\n",
       "      <td>5.00</td>\n",
       "      <td>70</td>\n",
       "      <td>72</td>\n",
       "      <td>75</td>\n",
       "      <td>40</td>\n",
       "      <td>...</td>\n",
       "      <td>NaN</td>\n",
       "      <td>NaN</td>\n",
       "      <td>NaN</td>\n",
       "      <td>NaN</td>\n",
       "      <td>NaN</td>\n",
       "      <td>NaN</td>\n",
       "      <td>NaN</td>\n",
       "      <td>NaN</td>\n",
       "      <td>NaN</td>\n",
       "      <td>NaN</td>\n",
       "    </tr>\n",
       "    <tr>\n",
       "      <th>2</th>\n",
       "      <td>1600</td>\n",
       "      <td>89</td>\n",
       "      <td>9.9</td>\n",
       "      <td>6.0</td>\n",
       "      <td>8.7</td>\n",
       "      <td>1.92</td>\n",
       "      <td>69</td>\n",
       "      <td>72</td>\n",
       "      <td>76</td>\n",
       "      <td>33</td>\n",
       "      <td>...</td>\n",
       "      <td>NaN</td>\n",
       "      <td>NaN</td>\n",
       "      <td>NaN</td>\n",
       "      <td>NaN</td>\n",
       "      <td>NaN</td>\n",
       "      <td>NaN</td>\n",
       "      <td>NaN</td>\n",
       "      <td>NaN</td>\n",
       "      <td>NaN</td>\n",
       "      <td>NaN</td>\n",
       "    </tr>\n",
       "    <tr>\n",
       "      <th>3</th>\n",
       "      <td>1400</td>\n",
       "      <td>86</td>\n",
       "      <td>8.8</td>\n",
       "      <td>4.9</td>\n",
       "      <td>7.4</td>\n",
       "      <td>1.01</td>\n",
       "      <td>70</td>\n",
       "      <td>73</td>\n",
       "      <td>80</td>\n",
       "      <td>28</td>\n",
       "      <td>...</td>\n",
       "      <td>NaN</td>\n",
       "      <td>NaN</td>\n",
       "      <td>NaN</td>\n",
       "      <td>NaN</td>\n",
       "      <td>NaN</td>\n",
       "      <td>NaN</td>\n",
       "      <td>NaN</td>\n",
       "      <td>NaN</td>\n",
       "      <td>NaN</td>\n",
       "      <td>NaN</td>\n",
       "    </tr>\n",
       "    <tr>\n",
       "      <th>4</th>\n",
       "      <td>1200</td>\n",
       "      <td>87</td>\n",
       "      <td>7.6</td>\n",
       "      <td>4.3</td>\n",
       "      <td>6.1</td>\n",
       "      <td>0.79</td>\n",
       "      <td>68</td>\n",
       "      <td>71</td>\n",
       "      <td>81</td>\n",
       "      <td>22</td>\n",
       "      <td>...</td>\n",
       "      <td>NaN</td>\n",
       "      <td>NaN</td>\n",
       "      <td>NaN</td>\n",
       "      <td>NaN</td>\n",
       "      <td>NaN</td>\n",
       "      <td>NaN</td>\n",
       "      <td>NaN</td>\n",
       "      <td>NaN</td>\n",
       "      <td>NaN</td>\n",
       "      <td>NaN</td>\n",
       "    </tr>\n",
       "    <tr>\n",
       "      <th>5</th>\n",
       "      <td>1000</td>\n",
       "      <td>82</td>\n",
       "      <td>6.3</td>\n",
       "      <td>3.5</td>\n",
       "      <td>5.0</td>\n",
       "      <td>0.53</td>\n",
       "      <td>69</td>\n",
       "      <td>72</td>\n",
       "      <td>81</td>\n",
       "      <td>18</td>\n",
       "      <td>...</td>\n",
       "      <td>NaN</td>\n",
       "      <td>NaN</td>\n",
       "      <td>NaN</td>\n",
       "      <td>NaN</td>\n",
       "      <td>NaN</td>\n",
       "      <td>NaN</td>\n",
       "      <td>NaN</td>\n",
       "      <td>NaN</td>\n",
       "      <td>NaN</td>\n",
       "      <td>NaN</td>\n",
       "    </tr>\n",
       "  </tbody>\n",
       "</table>\n",
       "<p>6 rows × 28 columns</p>\n",
       "</div>"
      ],
      "text/plain": [
       "   n(rpm)  F(N)  Delta S(cm)  V (cm^3)  delta P(cm)  Humo (m^-1)  TH2O-e(°C)  \\\n",
       "0    2000    85         11.8       9.0         11.4         4.95          69   \n",
       "1    1800    87         11.1       7.9         10.1         5.00          70   \n",
       "2    1600    89          9.9       6.0          8.7         1.92          69   \n",
       "3    1400    86          8.8       4.9          7.4         1.01          70   \n",
       "4    1200    87          7.6       4.3          6.1         0.79          68   \n",
       "5    1000    82          6.3       3.5          5.0         0.53          69   \n",
       "\n",
       "   TH2O-s(°C)  Tacei(°C)  Paceite (psig)  ...  etav (%)  ge(L/kW.h)  \\\n",
       "0          73         46              50  ...       NaN         NaN   \n",
       "1          72         75              40  ...       NaN         NaN   \n",
       "2          72         76              33  ...       NaN         NaN   \n",
       "3          73         80              28  ...       NaN         NaN   \n",
       "4          71         81              22  ...       NaN         NaN   \n",
       "5          72         81              18  ...       NaN         NaN   \n",
       "\n",
       "   eta e (%)  Nelec (kWe)  efic. generador (%)  Mm (N.m)  Nm (kW)  eta m (%)  \\\n",
       "0        NaN          NaN                  NaN       NaN      NaN        NaN   \n",
       "1        NaN          NaN                  NaN       NaN      NaN        NaN   \n",
       "2        NaN          NaN                  NaN       NaN      NaN        NaN   \n",
       "3        NaN          NaN                  NaN       NaN      NaN        NaN   \n",
       "4        NaN          NaN                  NaN       NaN      NaN        NaN   \n",
       "5        NaN          NaN                  NaN       NaN      NaN        NaN   \n",
       "\n",
       "   Ni (kW)  eta i (%)  \n",
       "0      NaN        NaN  \n",
       "1      NaN        NaN  \n",
       "2      NaN        NaN  \n",
       "3      NaN        NaN  \n",
       "4      NaN        NaN  \n",
       "5      NaN        NaN  \n",
       "\n",
       "[6 rows x 28 columns]"
      ]
     },
     "execution_count": 22,
     "metadata": {},
     "output_type": "execute_result"
    }
   ],
   "source": [
    "t = 15 #s\n",
    "rho_c = 0.805 #kg/L\n",
    "P0 = 1.001 #bar\n",
    "T0 = 299.8 #K\n",
    "hc = 15 #cm\n",
    "Hu = 42.5 #MJ/kg\n",
    "alpha_Ga = 30 #Grades\n",
    "b = 0.305 #m\n",
    "lo = 14.3 #kg/kg\n",
    "W0 = 0.118 #kN\n",
    "\n",
    "df_velocidad = pd.read_csv('/home/heneos/Downloads/velocidad.csv')\n",
    "df_velocidad"
   ]
  },
  {
   "cell_type": "code",
   "execution_count": 65,
   "metadata": {},
   "outputs": [],
   "source": [
    "Fd = df_velocidad['F(N)']/1000 #kN\n",
    "Mm = b*(W0-Fd) #kN-m\n",
    "Nm = Mm*2*np.pi*df_velocidad['n(rpm)']/60 #kW\n",
    "pm = 120*Nm/(df_velocidad['n(rpm)']*df_velocidad['V (cm^3)']*0.001) #MPa\n",
    "\n",
    "Me = b*Fd #kN-m\n",
    "Ne = Me*2*np.pi*df_velocidad['n(rpm)']/60 #kW\n",
    "\n",
    "pe = 120*Ne/(df_velocidad['n(rpm)']*df_velocidad['V (cm^3)']*0.001) #MPa\n",
    "pi = pm+pe\n",
    "\n",
    "Ni = Nm+Ne #kW\n",
    "\n",
    "Gc = 3.6*df_velocidad['V (cm^3)']*rho_c/t #kg/h\n",
    "\n",
    "eta_i = 3600*Ni/(Hu*1000*Gc)\n",
    "eta_e = 3600*Ne/(Hu*1000*Gc)\n",
    "eta_m = Ne/Ni\n",
    "\n",
    "gi = 1000*Gc/Ni #g/kWh\n",
    "ge = 1000*Gc/Ne #g/kWh"
   ]
  },
  {
   "cell_type": "code",
   "execution_count": 66,
   "metadata": {},
   "outputs": [
    {
     "data": {
      "text/plain": [
       "[<matplotlib.lines.Line2D at 0x7fd993f50ee0>]"
      ]
     },
     "execution_count": 66,
     "metadata": {},
     "output_type": "execute_result"
    },
    {
     "data": {
      "image/png": "[encoded data removed]",
      "text/plain": [
       "<Figure size 432x288 with 1 Axes>"
      ]
     },
     "metadata": {
      "needs_background": "light"
     },
     "output_type": "display_data"
    }
   ],
   "source": [
    "plt.plot(df_velocidad['n(rpm)'], pm, '-bo')"
   ]
  },
  {
   "cell_type": "code",
   "execution_count": 67,
   "metadata": {},
   "outputs": [
    {
     "data": {
      "text/plain": [
       "[<matplotlib.lines.Line2D at 0x7fd993f29c10>]"
      ]
     },
     "execution_count": 67,
     "metadata": {},
     "output_type": "execute_result"
    },
    {
     "data": {
      "image/png": "[encoded data removed]",
      "text/plain": [
       "<Figure size 432x288 with 1 Axes>"
      ]
     },
     "metadata": {
      "needs_background": "light"
     },
     "output_type": "display_data"
    }
   ],
   "source": [
    "plt.plot(df_velocidad['n(rpm)'], Me, '-go')\n",
    "plt.plot(df_velocidad['n(rpm)'], Ne, '-bo')"
   ]
  },
  {
   "cell_type": "code",
   "execution_count": 68,
   "metadata": {},
   "outputs": [
    {
     "data": {
      "text/plain": [
       "[<matplotlib.lines.Line2D at 0x7fd993e84dc0>]"
      ]
     },
     "execution_count": 68,
     "metadata": {},
     "output_type": "execute_result"
    },
    {
     "data": {
      "image/png": "[encoded data removed]",
      "text/plain": [
       "<Figure size 432x288 with 1 Axes>"
      ]
     },
     "metadata": {
      "needs_background": "light"
     },
     "output_type": "display_data"
    }
   ],
   "source": [
    "plt.plot(df_velocidad['n(rpm)'], pm, '-go')\n",
    "plt.plot(df_velocidad['n(rpm)'], pe, '-bo')\n",
    "plt.plot(df_velocidad['n(rpm)'], pi, '-ro')"
   ]
  },
  {
   "cell_type": "code",
   "execution_count": 69,
   "metadata": {},
   "outputs": [
    {
     "data": {
      "text/plain": [
       "[<matplotlib.lines.Line2D at 0x7fd998411a30>]"
      ]
     },
     "execution_count": 69,
     "metadata": {},
     "output_type": "execute_result"
    },
    {
     "data": {
      "image/png": "[encoded data removed]",
      "text/plain": [
       "<Figure size 432x288 with 1 Axes>"
      ]
     },
     "metadata": {
      "needs_background": "light"
     },
     "output_type": "display_data"
    }
   ],
   "source": [
    "plt.plot(df_velocidad['n(rpm)'], Nm, '-go')\n",
    "plt.plot(df_velocidad['n(rpm)'], Ne, '-bo')\n",
    "plt.plot(df_velocidad['n(rpm)'], Ni, '-ro')"
   ]
  },
  {
   "cell_type": "code",
   "execution_count": 70,
   "metadata": {},
   "outputs": [
    {
     "data": {
      "text/plain": [
       "[<matplotlib.lines.Line2D at 0x7fd998181e20>]"
      ]
     },
     "execution_count": 70,
     "metadata": {},
     "output_type": "execute_result"
    },
    {
     "data": {
      "image/png": "[encoded data removed]",
      "text/plain": [
       "<Figure size 432x288 with 1 Axes>"
      ]
     },
     "metadata": {
      "needs_background": "light"
     },
     "output_type": "display_data"
    }
   ],
   "source": [
    "plt.plot(df_velocidad['n(rpm)'], Gc, '-go')"
   ]
  },
  {
   "cell_type": "code",
   "execution_count": 71,
   "metadata": {},
   "outputs": [
    {
     "data": {
      "text/plain": [
       "[<matplotlib.lines.Line2D at 0x7fd993df2a00>]"
      ]
     },
     "execution_count": 71,
     "metadata": {},
     "output_type": "execute_result"
    },
    {
     "data": {
      "image/png": "[encoded data removed]",
      "text/plain": [
       "<Figure size 432x288 with 1 Axes>"
      ]
     },
     "metadata": {
      "needs_background": "light"
     },
     "output_type": "display_data"
    }
   ],
   "source": [
    "plt.plot(df_velocidad['n(rpm)'], eta_m, '-go')\n",
    "plt.plot(df_velocidad['n(rpm)'], eta_e, '-bo')\n",
    "plt.plot(df_velocidad['n(rpm)'], eta_i, '-ro')"
   ]
  },
  {
   "cell_type": "code",
   "execution_count": 72,
   "metadata": {},
   "outputs": [
    {
     "data": {
      "text/plain": [
       "[<matplotlib.lines.Line2D at 0x7fd993d52070>]"
      ]
     },
     "execution_count": 72,
     "metadata": {},
     "output_type": "execute_result"
    },
    {
     "data": {
      "image/png": "[encoded data removed]",
      "text/plain": [
       "<Figure size 432x288 with 1 Axes>"
      ]
     },
     "metadata": {
      "needs_background": "light"
     },
     "output_type": "display_data"
    }
   ],
   "source": [
    "plt.plot(df_velocidad['n(rpm)'], ge, '-bo')\n",
    "plt.plot(df_velocidad['n(rpm)'], gi, '-ro')"
   ]
  },
  {
   "cell_type": "code",
   "execution_count": null,
   "metadata": {},
   "outputs": [],
   "source": []
  }
 ],
 "metadata": {
  "kernelspec": {
   "display_name": "Python 3",
   "language": "python",
   "name": "python3"
  },
  "language_info": {
   "codemirror_mode": {
    "name": "ipython",
    "version": 3
   },
   "file_extension": ".py",
   "mimetype": "text/x-python",
   "name": "python",
   "nbconvert_exporter": "python",
   "pygments_lexer": "ipython3",
   "version": "3.9.1"
  }
 },
 "nbformat": 4,
 "nbformat_minor": 4
}
